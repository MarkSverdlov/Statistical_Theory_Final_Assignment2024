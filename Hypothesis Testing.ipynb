{
 "cells": [
  {
   "cell_type": "markdown",
   "id": "ee256bcc",
   "metadata": {},
   "source": [
    "# Hypothesis Testing"
   ]
  },
  {
   "cell_type": "markdown",
   "id": "a90fc7d6",
   "metadata": {},
   "source": [
    "Shamelessly stolen from: <br>\n",
    "https://github.com/eceisik/eip/blob/main/hypothesis_testing_examples.ipynb"
   ]
  },
  {
   "cell_type": "code",
   "execution_count": 1,
   "id": "e01f3592",
   "metadata": {},
   "outputs": [],
   "source": [
    "import numpy as np\n",
    "from scipy import stats\n",
    "import pandas as pd\n",
    "pd.options.display.float_format = '{:,.4f}'.format"
   ]
  },
  {
   "cell_type": "code",
   "execution_count": 7,
   "id": "2f84c6ab",
   "metadata": {},
   "outputs": [],
   "source": [
    "def check_normality(data, threshold=30):\n",
    "    \"\"\"\n",
    "    Perform a normality test using the Shapiro-Wilk test for small samples\n",
    "    and the Kolmogorov-Smirnov test for larger samples.\n",
    "\n",
    "    Parameters:\n",
    "    data (list or array-like): The sample data to test for normality.\n",
    "    threshold (int): The sample size threshold to switch between tests. Default is 30.\n",
    "\n",
    "    Returns:\n",
    "    test_name (str): The name of the test performed.\n",
    "    statistic (float): The test statistic.\n",
    "    p_value (float): The p-value of the test.\n",
    "    \"\"\"\n",
    "    \n",
    "    n = len(data)\n",
    "    \n",
    "    if n <= threshold:\n",
    "        test_name = \"Shapiro-Wilk\"\n",
    "        statistic, p_value = stats.shapiro(data)\n",
    "    else:\n",
    "        test_name = \"Kolmogorov-Smirnov\"\n",
    "        statistic, p_value = stats.kstest(data, 'norm', args=(np.mean(data), np.std(data)))\n",
    "    \n",
    "    print(\"p value:%.4f\" % p_value)\n",
    "    if p_value <0.05:\n",
    "        print(\"Reject null hypothesis >> The data is not normally distributed\")\n",
    "    else:\n",
    "        print(\"Fail to reject null hypothesis >> The data is normally distributed\") "
   ]
  },
  {
   "cell_type": "code",
   "execution_count": 10,
   "id": "529906f6",
   "metadata": {},
   "outputs": [],
   "source": [
    "def check_variance_homogeneity(group1, group2):\n",
    "    test_stat, p_val = stats.levene(group1, group2)\n",
    "    print(\"p value:%.4f\" % p_val)\n",
    "    if p_val <0.05:\n",
    "        print(\"Reject null hypothesis >> The variances of the samples are different.\")\n",
    "    else:\n",
    "        print(\"Fail to reject null hypothesis >> The variances of the samples are same.\")"
   ]
  },
  {
   "cell_type": "markdown",
   "id": "255cc73f",
   "metadata": {},
   "source": [
    "## Q1.   \n",
    " A university professor gave online lectures instead of face-to-face classes due to Covid-19. Later, he uploaded recorded lectures to the cloud for students who followed the course asynchronously (those who did not attend the lesson but later watched the records). However, he believes that the students who attend class at the class time and participate in the process are more successful. Therefore, he recorded the average grades of the students at the end of the semester. The data is below. \n",
    "\n",
    "synchronous = [94. , 84.9, 82.6, 69.5, 80.1, 79.6, 81.4, 77.8, 81.7, 78.8, 73.2, 87.9, 87.9, 93.5, 82.3, 79.3, 78.3, 71.6, 88.6, 74.6, 74.1, 80.6]      \n",
    "asynchronous = [77.1, 71.7, 91. , 72.2, 74.8, 85.1, 67.6, 69.9, 75.3, 71.7, 65.7, 72.6, 71.5, 78.2]\n",
    "\n",
    "**Conduct the hypothesis testing to check whether the professor's belief is statistically significant by using a 0.05 significance level to evaluate the null and alternative hypotheses. Before doing hypothesis testing, check the related assumptions. Comment on the results.**"
   ]
  },
  {
   "cell_type": "markdown",
   "id": "2658ca40",
   "metadata": {},
   "source": [
    "### Assumptions\n",
    "Observations in each sample are independent and identically distributed (iid).  \n",
    "Observations in each sample are normally distributed.  \n",
    "Observations in each sample have the same variance. "
   ]
  },
  {
   "cell_type": "code",
   "execution_count": 5,
   "id": "9dcc3a61",
   "metadata": {},
   "outputs": [],
   "source": [
    "sync = np.array([94. , 84.9, 82.6, 69.5, 80.1, 79.6, 81.4, 77.8, 81.7, 78.8, 73.2,\n",
    "       87.9, 87.9, 93.5, 82.3, 79.3, 78.3, 71.6, 88.6, 74.6, 74.1, 80.6])\n",
    "asyncr =np.array([77.1, 71.7, 91. , 72.2, 74.8, 85.1, 67.6, 69.9, 75.3, 71.7, 65.7, 72.6, 71.5, 78.2])"
   ]
  },
  {
   "cell_type": "markdown",
   "id": "012a08c6",
   "metadata": {},
   "source": [
    "$H_{0}$: The data is normally distributed.  \n",
    "$H_{1}$: The data is not normally distributed.   \n",
    "Assume that alpha=0.05 If p-value is > 0.05, it can be said that data is normally distributed."
   ]
  },
  {
   "cell_type": "code",
   "execution_count": 8,
   "id": "7a44c9e6",
   "metadata": {
    "scrolled": true
   },
   "outputs": [
    {
     "name": "stdout",
     "output_type": "stream",
     "text": [
      "p value:0.6556\n",
      "Fail to reject null hypothesis >> The data is normally distributed\n",
      "p value:0.0803\n",
      "Fail to reject null hypothesis >> The data is normally distributed\n"
     ]
    }
   ],
   "source": [
    "check_normality(sync)\n",
    "check_normality(asyncr)"
   ]
  },
  {
   "cell_type": "markdown",
   "id": "fcf01ba2",
   "metadata": {},
   "source": [
    "$H_{0}$: The variances of the samples are same.  \n",
    "$H_{1}$: The variances of the samples are different.\n",
    "    \n",
    "It tests the null hypothesis that the population variances are equal (called homogeneity of variance or homoscedasticity). If the resulting p-value of Levene's test is less than some significance level (typically 0.05), the obtained differences in sample variances are unlikely to have occurred based on random sampling from a population with equal variances"
   ]
  },
  {
   "cell_type": "code",
   "execution_count": 11,
   "id": "68d277d9",
   "metadata": {},
   "outputs": [
    {
     "name": "stdout",
     "output_type": "stream",
     "text": [
      "p value:0.8149\n",
      "Fail to reject null hypothesis >> The variances of the samples are same.\n"
     ]
    }
   ],
   "source": [
    "check_variance_homogeneity(sync, asyncr)"
   ]
  },
  {
   "cell_type": "markdown",
   "id": "0961bee1",
   "metadata": {},
   "source": [
    "$H_{0}$: $\\mu_{s}<= \\mu_{a}$     \n",
    "$H_{1}$: $\\mu_{s}>  \\mu_{a}$"
   ]
  },
  {
   "cell_type": "code",
   "execution_count": 12,
   "id": "b8b58c47",
   "metadata": {
    "scrolled": true
   },
   "outputs": [
    {
     "name": "stdout",
     "output_type": "stream",
     "text": [
      "p value:0.00753598\n",
      "since the hypothesis is one sided >> use p_value/2 >> p_value_one_sided:0.0038\n",
      "Reject null hypothesis\n"
     ]
    }
   ],
   "source": [
    "ttest, p_value = stats.ttest_ind(sync,asyncr)\n",
    "print(\"p value:%.8f\" % p_value)\n",
    "print(\"since the hypothesis is one sided >> use p_value/2 >> p_value_one_sided:%.4f\" %(p_value/2))\n",
    "if p_value/2 <0.05:\n",
    "    print(\"Reject null hypothesis\")\n",
    "else:\n",
    "    print(\"Fail to reject null hypothesis\") "
   ]
  },
  {
   "cell_type": "markdown",
   "id": "43c44da5",
   "metadata": {},
   "source": [
    "## Q2.\n",
    "A pediatrician wants to see the effect of formula consumption on the average monthly weight gain (in gr) of babies. For this reason, she collected  data from three different groups. The first group is exclusively breastfed children(receives only breast milk), the second group is children who are fed with only formula and the last group is both formula and breastfed children. These data are as below \n",
    "\n",
    "\n",
    "only_breast=[794.1, 716.9, 993. , 724.7, 760.9, 908.2, 659.3 , 690.8, 768.7,\n",
    "       717.3 , 630.7, 729.5, 714.1, 810.3, 583.5, 679.9, 865.1]      \n",
    "   \n",
    "only_formula=[ 898.8,  881.2,  940.2,  966.2,  957.5, 1061.7, 1046.2,  980.4,\n",
    "        895.6,  919.7, 1074.1,  952.5,  796.3,  859.6,  871.1 , 1047.5,\n",
    "        919.1 , 1160.5,  996.9]     \n",
    "        \n",
    "both=[976.4, 656.4, 861.2, 706.8, 718.5, 717.1, 759.8, 894.6, 867.6,\n",
    "       805.6, 765.4, 800.3, 789.9, 875.3, 740. , 799.4, 790.3, 795.2 ,\n",
    "       823.6, 818.7, 926.8, 791.7, 948.3]  \n",
    "**According to this information, conduct the hypothesis testing to check whether there is a difference between the average monthly gain of these three groups by using a 0.05 significance level. If there is a significant difference, perform further analysis to find what caused the difference.  Before doing hypothesis testing, check the related assumptions. Comment on the results.**"
   ]
  },
  {
   "cell_type": "code",
   "execution_count": 13,
   "id": "32fd227e",
   "metadata": {},
   "outputs": [],
   "source": [
    "only_breast=np.array([794.1, 716.9, 993. , 724.7, 760.9, 908.2, 659.3 , 690.8, 768.7,\n",
    "       717.3 , 630.7, 729.5, 714.1, 810.3, 583.5, 679.9, 865.1])\n",
    "\n",
    "only_formula=np.array([ 898.8,  881.2,  940.2,  966.2,  957.5, 1061.7, 1046.2,  980.4,\n",
    "        895.6,  919.7, 1074.1,  952.5,  796.3,  859.6,  871.1 , 1047.5,\n",
    "        919.1 , 1160.5,  996.9])\n",
    "\n",
    "both=np.array([976.4, 656.4, 861.2, 706.8, 718.5, 717.1, 759.8, 894.6, 867.6,\n",
    "       805.6, 765.4, 800.3, 789.9, 875.3, 740. , 799.4, 790.3, 795.2 ,\n",
    "       823.6, 818.7, 926.8, 791.7, 948.3])"
   ]
  },
  {
   "cell_type": "markdown",
   "id": "752f0992",
   "metadata": {},
   "source": [
    "$ H_{0} $: The data is normally distributed.  \n",
    "$ H_{1} $: The data is not normally distributed. "
   ]
  },
  {
   "cell_type": "code",
   "execution_count": 14,
   "id": "0553e032",
   "metadata": {
    "scrolled": true
   },
   "outputs": [
    {
     "name": "stdout",
     "output_type": "stream",
     "text": [
      "p value:0.4694\n",
      "Fail to reject null hypothesis >> The data is normally distributed\n",
      "p value:0.8879\n",
      "Fail to reject null hypothesis >> The data is normally distributed\n",
      "p value:0.7973\n",
      "Fail to reject null hypothesis >> The data is normally distributed\n"
     ]
    }
   ],
   "source": [
    "check_normality(only_breast)\n",
    "check_normality(only_formula)\n",
    "check_normality(both)"
   ]
  },
  {
   "cell_type": "markdown",
   "id": "a7215eaa",
   "metadata": {},
   "source": [
    "$H_{0}$: The variances of the samples are the same.  \n",
    "$H_{1}$: The variances of the samples are different. "
   ]
  },
  {
   "cell_type": "code",
   "execution_count": 15,
   "id": "3af28b4b",
   "metadata": {},
   "outputs": [
    {
     "name": "stdout",
     "output_type": "stream",
     "text": [
      "p value:0.7673\n",
      "Fail to reject null hypothesis >> The variances of the samples are same.\n"
     ]
    }
   ],
   "source": [
    "stat, pvalue_levene= stats.levene(only_breast,only_formula,both)\n",
    "\n",
    "print(\"p value:%.4f\" % pvalue_levene)\n",
    "if pvalue_levene <0.05:\n",
    "    print(\"Reject null hypothesis >> The variances of the samples are different.\")\n",
    "else:\n",
    "    print(\"Fail to reject null hypothesis >> The variances of the samples are same.\")"
   ]
  },
  {
   "cell_type": "markdown",
   "id": "5a27c2ed",
   "metadata": {},
   "source": [
    "$H_{0}$: $\\mu_{1}= \\mu_{2}= \\mu_{3} $ **or** The mean of the samples is the same.      \n",
    "$H_{1}$: At least one of them is different.   "
   ]
  },
  {
   "cell_type": "code",
   "execution_count": 16,
   "id": "5c34fa71",
   "metadata": {},
   "outputs": [
    {
     "name": "stdout",
     "output_type": "stream",
     "text": [
      "p value:0.000000\n",
      "Reject null hypothesis\n"
     ]
    }
   ],
   "source": [
    "F, p_value = stats.f_oneway(only_breast,only_formula,both)\n",
    "print(\"p value:%.6f\" % p_value)\n",
    "if p_value <0.05:\n",
    "    print(\"Reject null hypothesis\")\n",
    "else:\n",
    "    print(\"Fail to reject null hypothesis\")"
   ]
  },
  {
   "cell_type": "markdown",
   "id": "e6aa720c",
   "metadata": {},
   "source": [
    "**At this significance level, it can be concluded that at least one of the groups has a different average monthly weight gain.**"
   ]
  },
  {
   "cell_type": "markdown",
   "id": "b1849e3f",
   "metadata": {},
   "source": [
    "------------\n",
    "\n",
    "## Q3.\n",
    "\n",
    "An analyst of a financial investment company is curious about the relationship between gender and risk appetite. A random sample was taken of 660 customers from the database. The customers in the sample were classified according to their gender and their risk appetite. The result is given in the following table."
   ]
  },
  {
   "cell_type": "markdown",
   "id": "7a8a74d5",
   "metadata": {},
   "source": [
    "| **Gender/Risk Appetite** | Very Low | Low | Medium | High | Very High | Total |\n",
    "|:--------------------:|:--------:|:---:|:------:|:----:|:---------:|:-----:|\n",
    "|        **Female**        |    53    |  23 |   30   |  36  |     88    |  230  |\n",
    "|         **Male**         |    71    |  48 |   51   |  57  |    203    |  430  |\n",
    "|         **Total**        |    124   |  71 |   81   |  93  |    291    |  660  |"
   ]
  },
  {
   "cell_type": "markdown",
   "id": "a6057b73",
   "metadata": {},
   "source": [
    "$H_{0}$: Gender and risk appetite are independent.   \n",
    "$H_{1}$: Gender and risk appetite are dependent. \n",
    "\n",
    "chi2 test should be used for this question. This test is known as the goodness-of-fit test. It implies that if the observed data are very close to the expected data. The assumption of this test every Ei ≥ 5 (in at least 80% of the cells) which is satisfied."
   ]
  },
  {
   "cell_type": "code",
   "execution_count": 23,
   "id": "5cb8ea9b",
   "metadata": {},
   "outputs": [
    {
     "name": "stdout",
     "output_type": "stream",
     "text": [
      "All expected frequencies are >= 5.\n",
      "expected frequencies:\n",
      "  [[ 43.21  24.74  28.23  32.41 101.41]\n",
      " [ 80.79  46.26  52.77  60.59 189.59]]\n",
      "degrees of freedom: 4\n",
      "test stat :7.0942\n",
      "p value:0.1310\n"
     ]
    }
   ],
   "source": [
    "from scipy.stats import chi2_contingency\n",
    "\n",
    "obs =np.array([[53, 23, 30, 36, 88],[71, 48, 51, 57, 203]])\n",
    "chi2, p, dof, ex = chi2_contingency(obs, correction=False)\n",
    "\n",
    "\n",
    "# Check if all expected frequencies are >= 5\n",
    "expected_frequencies_valid = np.all(ex >= 5)\n",
    "\n",
    "if not expected_frequencies_valid:\n",
    "    print(\"Warning: Some expected frequencies are less than 5. Consider combining categories or using an alternative test.\")\n",
    "else:\n",
    "    print(\"All expected frequencies are >= 5.\")\n",
    "    \n",
    "\n",
    "print(\"expected frequencies:\\n \", np.round(ex,2))\n",
    "print(\"degrees of freedom:\", dof)\n",
    "print(\"test stat :%.4f\" % chi2)\n",
    "print(\"p value:%.4f\" % p)"
   ]
  }
 ],
 "metadata": {
  "kernelspec": {
   "display_name": "Python 3 (ipykernel)",
   "language": "python",
   "name": "python3"
  },
  "language_info": {
   "codemirror_mode": {
    "name": "ipython",
    "version": 3
   },
   "file_extension": ".py",
   "mimetype": "text/x-python",
   "name": "python",
   "nbconvert_exporter": "python",
   "pygments_lexer": "ipython3",
   "version": "3.12.1"
  }
 },
 "nbformat": 4,
 "nbformat_minor": 5
}
