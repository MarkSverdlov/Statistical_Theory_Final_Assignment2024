{
 "cells": [
  {
   "cell_type": "code",
   "execution_count": 1,
   "id": "fa0e6221-669e-4cf0-ae20-906b4f187645",
   "metadata": {},
   "outputs": [],
   "source": [
    "import pandas as pd\n",
    "data = pd.read_csv(\"games_may2024_cleaned.csv\")"
   ]
  },
  {
   "cell_type": "code",
   "execution_count": 2,
   "id": "bb2c06c9-7a43-4807-af51-6bae6c732825",
   "metadata": {},
   "outputs": [
    {
     "name": "stdout",
     "output_type": "stream",
     "text": [
      "        AppID                name release_date  ...  num_reviews_total  pct_pos_recent  num_reviews_recent\n",
      "2         570              Dota 2   2013-07-09  ...            2247365              71               23832\n",
      "3      271590  Grand Theft Auto V   2015-04-13  ...            1643791              92               16181\n",
      "5         440     Team Fortress 2   2007-10-10  ...            1048199              77                7500\n",
      "6      105600            Terraria   2011-05-16  ...            1026239              96                8931\n",
      "8      252490                Rust   2018-02-08  ...             874762              86                9347\n",
      "...       ...                 ...          ...  ...                ...             ...                 ...\n",
      "81329  333580     Slow Down, Bull   2015-04-20  ...                 -1              -1                  -1\n",
      "81862  844740               SCARF   2018-09-14  ...                 -1              -1                  -1\n",
      "82165  603840             Randall   2017-06-06  ...                 -1              -1                  -1\n",
      "82698  370220         Animal Gods   2015-10-12  ...                 -1              -1                  -1\n",
      "83457  102400    Vertex Dispenser   2011-06-10  ...                 -1              -1                  -1\n",
      "\n",
      "[3940 rows x 46 columns]\n"
     ]
    }
   ],
   "source": [
    "data = data[~pd.isna(data['metacritic_url'])]\n",
    "print(data)"
   ]
  },
  {
   "cell_type": "code",
   "execution_count": 3,
   "id": "2d91b9ec-d69d-4040-aa06-33cd58dd58d1",
   "metadata": {},
   "outputs": [
    {
     "name": "stdout",
     "output_type": "stream",
     "text": [
      "Index(['AppID', 'name', 'release_date', 'required_age', 'price', 'dlc_count',\n",
      "       'detailed_description', 'about_the_game', 'short_description',\n",
      "       'reviews', 'header_image', 'website', 'support_url', 'support_email',\n",
      "       'windows', 'mac', 'linux', 'metacritic_score', 'metacritic_url',\n",
      "       'achievements', 'recommendations', 'notes', 'supported_languages',\n",
      "       'full_audio_languages', 'packages', 'developers', 'publishers',\n",
      "       'categories', 'genres', 'screenshots', 'movies', 'user_score',\n",
      "       'score_rank', 'positive', 'negative', 'estimated_owners',\n",
      "       'average_playtime_forever', 'average_playtime_2weeks',\n",
      "       'median_playtime_forever', 'median_playtime_2weeks', 'peak_ccu', 'tags',\n",
      "       'pct_pos_total', 'num_reviews_total', 'pct_pos_recent',\n",
      "       'num_reviews_recent'],\n",
      "      dtype='object')\n"
     ]
    }
   ],
   "source": [
    "print(data.columns)"
   ]
  },
  {
   "cell_type": "code",
   "execution_count": 4,
   "id": "e9d43b76-12b3-4706-bece-aa95aae72910",
   "metadata": {},
   "outputs": [
    {
     "name": "stdout",
     "output_type": "stream",
     "text": [
      "1997-11-14 2024-05-21\n"
     ]
    }
   ],
   "source": [
    "print(data['release_date'].min(), data['release_date'].max())"
   ]
  },
  {
   "cell_type": "code",
   "execution_count": 22,
   "id": "a7c9a645-4651-461c-814d-a91b38f46353",
   "metadata": {},
   "outputs": [
    {
     "name": "stdout",
     "output_type": "stream",
     "text": [
      "                     name    total  user_ratio  pct_pos_total\n",
      "2                  Dota 2  2238507    0.818616             81\n",
      "3      Grand Theft Auto V  1794061    0.867994             87\n",
      "5         Team Fortress 2  1045465    0.937783             93\n",
      "6                Terraria  1284736    0.976285             97\n",
      "8                    Rust  1058810    0.870865             87\n",
      "...                   ...      ...         ...            ...\n",
      "81329     Slow Down, Bull       17    0.823529             -1\n",
      "81862               SCARF        0         NaN             -1\n",
      "82165             Randall       19    0.789474             -1\n",
      "82698         Animal Gods       46    0.391304             -1\n",
      "83457    Vertex Dispenser       32    0.718750             -1\n",
      "\n",
      "[3940 rows x 4 columns]\n"
     ]
    }
   ],
   "source": [
    "print(data.loc[:, ['name', 'total', 'user_ratio', 'pct_pos_total']])"
   ]
  },
  {
   "cell_type": "code",
   "execution_count": 9,
   "id": "c33a32c5-d70e-43e9-bb7a-f981dd059c3c",
   "metadata": {},
   "outputs": [],
   "source": [
    "data['total'] = data['positive'] + data['negative']"
   ]
  },
  {
   "cell_type": "code",
   "execution_count": 11,
   "id": "16b6bdfe-2db3-42e5-828c-736490b104be",
   "metadata": {},
   "outputs": [],
   "source": [
    "data['user_ratio'] = data['positive'] / data['total']"
   ]
  },
  {
   "cell_type": "code",
   "execution_count": null,
   "id": "e595a40c-2ca7-460b-88e9-8c01bfdaf74b",
   "metadata": {},
   "outputs": [],
   "source": []
  }
 ],
 "metadata": {
  "kernelspec": {
   "display_name": "Python 3 (ipykernel)",
   "language": "python",
   "name": "python3"
  },
  "language_info": {
   "codemirror_mode": {
    "name": "ipython",
    "version": 3
   },
   "file_extension": ".py",
   "mimetype": "text/x-python",
   "name": "python",
   "nbconvert_exporter": "python",
   "pygments_lexer": "ipython3",
   "version": "3.12.1"
  }
 },
 "nbformat": 4,
 "nbformat_minor": 5
}
